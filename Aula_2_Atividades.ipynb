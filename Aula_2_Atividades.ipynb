{
  "nbformat": 4,
  "nbformat_minor": 0,
  "metadata": {
    "colab": {
      "provenance": [],
      "authorship_tag": "ABX9TyN1aHDTnKiTYPOvY+xl4lbk",
      "include_colab_link": true
    },
    "kernelspec": {
      "name": "python3",
      "display_name": "Python 3"
    },
    "language_info": {
      "name": "python"
    }
  },
  "cells": [
    {
      "cell_type": "markdown",
      "metadata": {
        "id": "view-in-github",
        "colab_type": "text"
      },
      "source": [
        "<a href=\"https://colab.research.google.com/github/Carolalmeida96/ProjetoBAH/blob/main/Aula_2_Atividades.ipynb\" target=\"_parent\"><img src=\"https://colab.research.google.com/assets/colab-badge.svg\" alt=\"Open In Colab\"/></a>"
      ]
    },
    {
      "cell_type": "markdown",
      "source": [
        "Atividade 1\n",
        "\n",
        "Crie um Array que vá do número 2017 até 2024. Comente qual a principal diferença de um array para uma lista? Printe o tipo do array e o tipo dos elementos do array. Transforme esse array num array bidimensional.\n",
        "\n",
        "Desafio: Mude o tipo dos elementos array para o que ocupe menos memória possível sem alterar os elementos do array.\n",
        "\n"
      ],
      "metadata": {
        "id": "wsCX7C3pTir_"
      }
    },
    {
      "cell_type": "code",
      "execution_count": null,
      "metadata": {
        "id": "t2ChIBugSXl9"
      },
      "outputs": [],
      "source": [
        "import numpy as np\n",
        "\n",
        "# Ask the user for the first and last numbers of the array\n",
        "primeiro_ano = int(input(\"Primeiro número do Array: \"))\n",
        "ultimo_ano = int(input(\"Último número do Array: \"))\n",
        "\n",
        "# Create the array directly using np.arange\n",
        "array_anos = np.arange(primeiro_ano, ultimo_ano + 1, dtype=np.int32)\n",
        "\n",
        "# Print the array and its dtype\n",
        "print(array_anos)\n",
        "print(array_anos.dtype)\n",
        "\n",
        "# Reshape the array into a 2x4 matrix\n",
        "array_anos = array_anos.reshape(2, 4)\n",
        "\n",
        "# Print the array and its dtype\n",
        "print(array_anos)"
      ]
    },
    {
      "cell_type": "markdown",
      "source": [
        "Atividade 2\n",
        "Crie um array de números aleatórios entre 0 e 10;\n",
        "Defina um valor limite de 0 a 10, por exemplo, 4;\n",
        "Encontre os índices dos elementos maiores do que o valor limite;\n",
        "Acessar os valores dos elementos maiores do que o valor limite;\n",
        "Substitua os valores maiores que o limite por 0."
      ],
      "metadata": {
        "id": "u2qHHjxrTtF2"
      }
    },
    {
      "cell_type": "code",
      "source": [
        "import numpy as np\n",
        "\n",
        "# Generate a random array\n",
        "np.random.seed(42)  # For reproducibility\n",
        "random_array = np.random.randint(0, 10, size=20)  # Random array of 20 integers between 0 and 100\n",
        "print(\"Random array:\", random_array)\n",
        "\n",
        "# Define the threshold\n",
        "threshold = 4\n",
        "\n",
        "# Find the indices and values that exceed the threshold\n",
        "indices_exceeding_threshold = np.where(random_array > threshold)\n",
        "values_exceeding_threshold = random_array[indices_exceeding_threshold]\n",
        "\n",
        "# Print the results\n",
        "print(\"Indices exceeding threshold:\", indices_exceeding_threshold)\n",
        "print(\"Values exceeding threshold:\", values_exceeding_threshold)\n",
        "\n",
        "# Replace values exceeding the threshold with 0\n",
        "random_array[indices_exceeding_threshold] = 0\n",
        "\n",
        "# Print the modified array\n",
        "print(\"Modified array:\", random_array)"
      ],
      "metadata": {
        "id": "xn4sWg35SvBG"
      },
      "execution_count": null,
      "outputs": []
    },
    {
      "cell_type": "markdown",
      "source": [
        "Atividade 3\n",
        "Foi adicionado uma lista para representar as vendas mensais de três empresas ao longo do ano.\n",
        "\n",
        "Transforme essa lista em Array;\n",
        "Calcule o valor minimo, maximo e medio da lista;\n",
        "Calcule a soma de cada mês e adicione uma coluna com esses resultados;\n",
        "Calcule a média de cada empresa (e da soma) e adicione como linha final;\n",
        "Remova as agregações;\n",
        "Separe o array em 4 arrays de trimestres.\n",
        "Faça as vendas esperadas para o ano seguinte. Espera-se que o primeiro trimestre terá um crescimento de 5%, 15% para o segundo trimestre, queda de 5% para o terceiro trimestre e crescimento de 20% para o último trimestre.\n",
        "Junte esses arrays em um novo array, mantendo a separação por trimestre.\n",
        "Desafio: Faça as vendas esperadas através da multiplicação do array de vendas trimestrais pelo array de crescimento. Transforme o array resultante para que ele tenha o mesmo shape do array original.\n",
        "\n",
        "Espera-se Split, Stack, Concatenate e Delete.\n",
        "\n",
        "vendas_mensais= [\n",
        "    [10000, 15000, 20000],  # Janeiro\n",
        "    [11000, 14000, 22000],  # Fevereiro\n",
        "    [12000, 16000, 21000],  # Março\n",
        "    [10500, 15500, 21500],  # Abril\n",
        "    [11500, 14500, 22500],  # Maio\n",
        "    [12500, 16500, 20500],  # Junho\n",
        "    [13000, 17000, 19500],  # Julho\n",
        "    [13500, 17500, 18500],  # Agosto\n",
        "    [14000, 18000, 17500],  # Setembro\n",
        "    [14500, 18500, 16500],  # Outubro\n",
        "    [15000, 19000, 15500],  # Novembro\n",
        "    [15500, 19500, 14500]   # Dezembro\n",
        "]"
      ],
      "metadata": {
        "id": "ZRsk7wSxTvQu"
      }
    },
    {
      "cell_type": "code",
      "source": [
        "import numpy as np\n",
        "\n",
        "vendas_mensais= [\n",
        "    [10000, 15000, 20000],  # Janeiro\n",
        "    [11000, 14000, 22000],  # Fevereiro\n",
        "    [12000, 16000, 21000],  # Março\n",
        "    [10500, 15500, 21500],  # Abril\n",
        "    [11500, 14500, 22500],  # Maio\n",
        "    [12500, 16500, 20500],  # Junho\n",
        "    [13000, 17000, 19500],  # Julho\n",
        "    [13500, 17500, 18500],  # Agosto\n",
        "    [14000, 18000, 17500],  # Setembro\n",
        "    [14500, 18500, 16500],  # Outubro\n",
        "    [15000, 19000, 15500],  # Novembro\n",
        "    [15500, 19500, 14500]   # Dezembro\n",
        "]\n",
        "print(vendas_mensais)\n",
        "\n",
        "# Lista com os arrays de vendas mensais das empresas\n",
        "vendas_array = np.array(vendas_mensais)\n",
        "print (vendas_array)\n",
        "\n",
        "# Calculando valor mínimo\n",
        "minimo = min(min(mes) for mes in vendas_mensais)\n",
        "print(\"Valor mínimo de vendas da lista:\", minimo)\n",
        "\n",
        "# Calculando valor máximo\n",
        "maximo = max(max(mes) for mes in vendas_mensais)\n",
        "print(\"Valor máximo de vendas da lista:\", maximo)\n",
        "\n",
        "# Calculando média\n",
        "total_vendas = sum(sum(mes) for mes in vendas_mensais)\n",
        "num_meses = len(vendas_mensais)\n",
        "media = total_vendas / (num_meses * len(vendas_mensais[0]))\n",
        "print(\"Média de vendas da lista:\", media)\n",
        "\n",
        "\n",
        "# Valor mínimo\n",
        "valor_minimo = np.min(vendas_array)\n",
        "print(\"Valor mínimo de vendas do  array:\", valor_minimo)\n",
        "\n",
        "# Valor máximo\n",
        "valor_maximo = np.max(vendas_array)\n",
        "print(\"Valor máximo de vendas do  array:\", valor_maximo)\n",
        "\n",
        "# Média\n",
        "media_vendas = np.mean(vendas_array)\n",
        "print(\"Média de vendas do  array:\", media_vendas)\n",
        "\n"
      ],
      "metadata": {
        "colab": {
          "base_uri": "https://localhost:8080/"
        },
        "id": "TuoHYBKJSyil",
        "outputId": "632a2419-108a-4a75-8492-9879e66eec78"
      },
      "execution_count": 19,
      "outputs": [
        {
          "output_type": "stream",
          "name": "stdout",
          "text": [
            "[[10000, 15000, 20000], [11000, 14000, 22000], [12000, 16000, 21000], [10500, 15500, 21500], [11500, 14500, 22500], [12500, 16500, 20500], [13000, 17000, 19500], [13500, 17500, 18500], [14000, 18000, 17500], [14500, 18500, 16500], [15000, 19000, 15500], [15500, 19500, 14500]]\n",
            "[[10000 15000 20000]\n",
            " [11000 14000 22000]\n",
            " [12000 16000 21000]\n",
            " [10500 15500 21500]\n",
            " [11500 14500 22500]\n",
            " [12500 16500 20500]\n",
            " [13000 17000 19500]\n",
            " [13500 17500 18500]\n",
            " [14000 18000 17500]\n",
            " [14500 18500 16500]\n",
            " [15000 19000 15500]\n",
            " [15500 19500 14500]]\n",
            "Valor mínimo de vendas da lista: 10000\n",
            "Valor máximo de vendas da lista: 22500\n",
            "Média de vendas da lista: 16208.333333333334\n",
            "Valor mínimo de vendas do  array: 10000\n",
            "Valor máximo de vendas do  array: 22500\n",
            "Média de vendas do  array: 16208.333333333334\n"
          ]
        }
      ]
    },
    {
      "cell_type": "code",
      "source": [
        "# Calcular a média das vendas de cada empresa\n",
        "soma_por_mes = np.sum(vendas_array, axis=1)\n",
        "\n",
        "# Adicionar uma coluna com os resultados de soma por mês\n",
        "matriz_soma_mes = np.column_stack((vendas_array, soma_por_mes))\n",
        "\n",
        "# Imprimir a matriz com a coluna de soma por mês\n",
        "print(\"Matriz de vendas mensais com soma por mês:\\n\")\n",
        "print(matriz_soma_mes)"
      ],
      "metadata": {
        "colab": {
          "base_uri": "https://localhost:8080/"
        },
        "id": "I-8kOx3iS4Cl",
        "outputId": "9ad8fc26-7683-447b-c553-5ae0a513a938"
      },
      "execution_count": 27,
      "outputs": [
        {
          "output_type": "stream",
          "name": "stdout",
          "text": [
            "Matriz de vendas mensais com soma por mês:\n",
            "\n",
            "[[10000 15000 20000 45000]\n",
            " [11000 14000 22000 47000]\n",
            " [12000 16000 21000 49000]\n",
            " [10500 15500 21500 47500]\n",
            " [11500 14500 22500 48500]\n",
            " [12500 16500 20500 49500]\n",
            " [13000 17000 19500 49500]\n",
            " [13500 17500 18500 49500]\n",
            " [14000 18000 17500 49500]\n",
            " [14500 18500 16500 49500]\n",
            " [15000 19000 15500 49500]\n",
            " [15500 19500 14500 49500]]\n"
          ]
        }
      ]
    },
    {
      "cell_type": "code",
      "source": [
        "# Calcular a média de cada coluna\n",
        "media_por_coluna = np.mean(matriz_soma_mes, axis=0)\n",
        "print (media_por_coluna)\n",
        "# Adicionar uma nova linha com as médias de vendas por mês\n",
        "matriz_media_empresa_mes = np.vstack((matriz_soma_mes, media_por_coluna))\n",
        "\n",
        "# Imprimir a matriz com a nova linha de média por coluna\n",
        "print(\"Matriz de vendas mensais com média por coluna:\")\n",
        "print(matriz_media_empresa_mes)"
      ],
      "metadata": {
        "colab": {
          "base_uri": "https://localhost:8080/"
        },
        "id": "pHqj--N8S6V9",
        "outputId": "0de5e3c6-47e8-41c8-f2ea-145f64de48dd"
      },
      "execution_count": 29,
      "outputs": [
        {
          "output_type": "stream",
          "name": "stdout",
          "text": [
            "[12750. 16750. 19125. 48625.]\n",
            "Matriz de vendas mensais com média por coluna:\n",
            "[[10000. 15000. 20000. 45000.]\n",
            " [11000. 14000. 22000. 47000.]\n",
            " [12000. 16000. 21000. 49000.]\n",
            " [10500. 15500. 21500. 47500.]\n",
            " [11500. 14500. 22500. 48500.]\n",
            " [12500. 16500. 20500. 49500.]\n",
            " [13000. 17000. 19500. 49500.]\n",
            " [13500. 17500. 18500. 49500.]\n",
            " [14000. 18000. 17500. 49500.]\n",
            " [14500. 18500. 16500. 49500.]\n",
            " [15000. 19000. 15500. 49500.]\n",
            " [15500. 19500. 14500. 49500.]\n",
            " [12750. 16750. 19125. 48625.]]\n"
          ]
        }
      ]
    },
    {
      "cell_type": "code",
      "source": [
        "nova_matriz = np.delete(matriz_media_empresa_mes, 12, axis=0)\n",
        "\n",
        "print(nova_matriz)\n",
        "\n",
        "nova_matriz = np.delete(nova_matriz, 2, axis=1)\n",
        "print(nova_matriz)\n",
        "\n",
        "tri = np.split(nova_matriz, 4, axis=0)\n",
        "print(tri)\n",
        "\n",
        "\n",
        "print(\"Trimestre 1:\")\n",
        "print(tri[:1])\n",
        "print()\n",
        "\n",
        "print(\"Trimestre 2:\")\n",
        "print(tri[1:2])\n",
        "print()\n",
        "\n",
        "print(\"Trimestre 3:\")\n",
        "print(tri[2:3])\n",
        "print()\n",
        "\n",
        "print(\"Trimestre 4:\")\n",
        "print(tri[3:])"
      ],
      "metadata": {
        "colab": {
          "base_uri": "https://localhost:8080/"
        },
        "id": "_NrO8JG0S9id",
        "outputId": "c0cf451b-7552-4b2a-f6ce-0809ab25ebe0"
      },
      "execution_count": 64,
      "outputs": [
        {
          "output_type": "stream",
          "name": "stdout",
          "text": [
            "[[10000. 15000. 20000. 45000.]\n",
            " [11000. 14000. 22000. 47000.]\n",
            " [12000. 16000. 21000. 49000.]\n",
            " [10500. 15500. 21500. 47500.]\n",
            " [11500. 14500. 22500. 48500.]\n",
            " [12500. 16500. 20500. 49500.]\n",
            " [13000. 17000. 19500. 49500.]\n",
            " [13500. 17500. 18500. 49500.]\n",
            " [14000. 18000. 17500. 49500.]\n",
            " [14500. 18500. 16500. 49500.]\n",
            " [15000. 19000. 15500. 49500.]\n",
            " [15500. 19500. 14500. 49500.]]\n",
            "[[10000. 15000. 45000.]\n",
            " [11000. 14000. 47000.]\n",
            " [12000. 16000. 49000.]\n",
            " [10500. 15500. 47500.]\n",
            " [11500. 14500. 48500.]\n",
            " [12500. 16500. 49500.]\n",
            " [13000. 17000. 49500.]\n",
            " [13500. 17500. 49500.]\n",
            " [14000. 18000. 49500.]\n",
            " [14500. 18500. 49500.]\n",
            " [15000. 19000. 49500.]\n",
            " [15500. 19500. 49500.]]\n",
            "[array([[10000., 15000., 45000.],\n",
            "       [11000., 14000., 47000.],\n",
            "       [12000., 16000., 49000.]]), array([[10500., 15500., 47500.],\n",
            "       [11500., 14500., 48500.],\n",
            "       [12500., 16500., 49500.]]), array([[13000., 17000., 49500.],\n",
            "       [13500., 17500., 49500.],\n",
            "       [14000., 18000., 49500.]]), array([[14500., 18500., 49500.],\n",
            "       [15000., 19000., 49500.],\n",
            "       [15500., 19500., 49500.]])]\n",
            "Trimestre 1:\n",
            "[array([[10000., 15000., 45000.],\n",
            "       [11000., 14000., 47000.],\n",
            "       [12000., 16000., 49000.]])]\n",
            "\n",
            "Trimestre 2:\n",
            "[array([[10500., 15500., 47500.],\n",
            "       [11500., 14500., 48500.],\n",
            "       [12500., 16500., 49500.]])]\n",
            "\n",
            "Trimestre 3:\n",
            "[array([[13000., 17000., 49500.],\n",
            "       [13500., 17500., 49500.],\n",
            "       [14000., 18000., 49500.]])]\n",
            "\n",
            "Trimestre 4:\n",
            "[array([[14500., 18500., 49500.],\n",
            "       [15000., 19000., 49500.],\n",
            "       [15500., 19500., 49500.]])]\n"
          ]
        }
      ]
    },
    {
      "cell_type": "code",
      "source": [
        "\n",
        "# Fatores de crescimento ou queda para cada trimestre\n",
        "fator_trimestre1 = np.array([[1.05, 1.05, 1.05], [1.05, 1.05, 1.05],[1.05, 1.05, 1.05]])  # crescimento de 5%\n",
        "fator_trimestre2 = np.array([[1.15, 1.15, 1.15], [1.15, 1.15, 1.15],[1.15, 1.15, 1.15]])  # crescimento de 15%\n",
        "fator_trimestre3 = np.array([[0.95,0.95, 0.95], [0.95, 0.95, 0.95],[0.95, 0.95, 0.95]]) # queda de 5%\n",
        "fator_trimestre4 = np.array([[1.20,1.20,1.20], [1.20,1.20,1.20],[1.20,1.20,1.20]])   # crescimento de 20%\n",
        "\n",
        "# Calculando as vendas esperadas para o próximo ano\n",
        "vendas_esperadas_trimestre1 = tri[:1] * fator_trimestre1\n",
        "vendas_esperadas_trimestre2 = tri[1:2] * fator_trimestre2\n",
        "vendas_esperadas_trimestre3 = tri[2:3] * fator_trimestre3\n",
        "vendas_esperadas_trimestre4 = tri[3:] * fator_trimestre4\n",
        "\n",
        "# Imprimindo as vendas esperadas para cada trimestre\n",
        "print(\"Vendas esperadas para o próximo ano:\")\n",
        "print(\"Trimestre 1:\")\n",
        "print(vendas_esperadas_trimestre1)\n",
        "print()\n",
        "print(\"Trimestre 2:\")\n",
        "print(vendas_esperadas_trimestre2)\n",
        "print()\n",
        "print(\"Trimestre 3:\")\n",
        "print(vendas_esperadas_trimestre3)\n",
        "print()\n",
        "print(\"Trimestre 4:\")\n",
        "print(vendas_esperadas_trimestre4)"
      ],
      "metadata": {
        "colab": {
          "base_uri": "https://localhost:8080/"
        },
        "id": "3uWirDUsTKd_",
        "outputId": "b2369efb-4c32-4a0c-b728-977e702de84a"
      },
      "execution_count": 72,
      "outputs": [
        {
          "output_type": "stream",
          "name": "stdout",
          "text": [
            "Vendas esperadas para o próximo ano:\n",
            "Trimestre 1:\n",
            "[[[10500. 15750. 47250.]\n",
            "  [11550. 14700. 49350.]\n",
            "  [12600. 16800. 51450.]]]\n",
            "\n",
            "Trimestre 2:\n",
            "[[[12075. 17825. 54625.]\n",
            "  [13225. 16675. 55775.]\n",
            "  [14375. 18975. 56925.]]]\n",
            "\n",
            "Trimestre 3:\n",
            "[[[12350. 16150. 47025.]\n",
            "  [12825. 16625. 47025.]\n",
            "  [13300. 17100. 47025.]]]\n",
            "\n",
            "Trimestre 4:\n",
            "[[[17400. 22200. 59400.]\n",
            "  [18000. 22800. 59400.]\n",
            "  [18600. 23400. 59400.]]]\n"
          ]
        }
      ]
    },
    {
      "cell_type": "code",
      "source": [
        "\n",
        "# Agrupar os arrays em uma matriz mantendo sua configuração original\n",
        "matriz_vendas_esperadas = np.stack((vendas_esperadas_trimestre1,\n",
        "                                          vendas_esperadas_trimestre2,\n",
        "                                          vendas_esperadas_trimestre3,\n",
        "                                          vendas_esperadas_trimestre4))\n",
        "\n",
        "# Imprimir a matriz resultante\n",
        "print(\"Matriz de vendas esperadas para o próximo ano por semestre:\\n\")\n",
        "print(matriz_vendas_esperadas)\n",
        "print()\n",
        "\n",
        "matriz_esperadas = np.concatenate((vendas_esperadas_trimestre1,\n",
        "                                          vendas_esperadas_trimestre2,\n",
        "                                          vendas_esperadas_trimestre3,\n",
        "                                          vendas_esperadas_trimestre4), axis=1)\n",
        "\n",
        "# Imprimir a matriz resultante\n",
        "print(\"Matriz de vendas esperadas para o próximo ano das empresas:\\n\")\n",
        "print(matriz_esperadas)\n",
        ""
      ],
      "metadata": {
        "colab": {
          "base_uri": "https://localhost:8080/"
        },
        "id": "vEh2gedGTO4P",
        "outputId": "8fcfac0e-d87c-4762-d4c1-38b2d05c2d37"
      },
      "execution_count": 76,
      "outputs": [
        {
          "output_type": "stream",
          "name": "stdout",
          "text": [
            "Matriz de vendas esperadas para o próximo ano por semestre:\n",
            "\n",
            "[[[[10500. 15750. 47250.]\n",
            "   [11550. 14700. 49350.]\n",
            "   [12600. 16800. 51450.]]]\n",
            "\n",
            "\n",
            " [[[12075. 17825. 54625.]\n",
            "   [13225. 16675. 55775.]\n",
            "   [14375. 18975. 56925.]]]\n",
            "\n",
            "\n",
            " [[[12350. 16150. 47025.]\n",
            "   [12825. 16625. 47025.]\n",
            "   [13300. 17100. 47025.]]]\n",
            "\n",
            "\n",
            " [[[17400. 22200. 59400.]\n",
            "   [18000. 22800. 59400.]\n",
            "   [18600. 23400. 59400.]]]]\n",
            "\n",
            "Matriz de vendas esperadas para o próximo ano das empresas:\n",
            "\n",
            "[[[10500. 15750. 47250.]\n",
            "  [11550. 14700. 49350.]\n",
            "  [12600. 16800. 51450.]\n",
            "  [12075. 17825. 54625.]\n",
            "  [13225. 16675. 55775.]\n",
            "  [14375. 18975. 56925.]\n",
            "  [12350. 16150. 47025.]\n",
            "  [12825. 16625. 47025.]\n",
            "  [13300. 17100. 47025.]\n",
            "  [17400. 22200. 59400.]\n",
            "  [18000. 22800. 59400.]\n",
            "  [18600. 23400. 59400.]]]\n"
          ]
        }
      ]
    },
    {
      "cell_type": "code",
      "source": [],
      "metadata": {
        "id": "1fsRCHyhjGKU"
      },
      "execution_count": null,
      "outputs": []
    }
  ]
}