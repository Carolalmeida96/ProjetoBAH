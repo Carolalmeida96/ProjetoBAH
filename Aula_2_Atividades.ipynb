{
  "nbformat": 4,
  "nbformat_minor": 0,
  "metadata": {
    "colab": {
      "provenance": [],
      "include_colab_link": true
    },
    "kernelspec": {
      "name": "python3",
      "display_name": "Python 3"
    },
    "language_info": {
      "name": "python"
    }
  },
  "cells": [
    {
      "cell_type": "markdown",
      "metadata": {
        "id": "view-in-github",
        "colab_type": "text"
      },
      "source": [
        "<a href=\"https://colab.research.google.com/github/Carolalmeida96/ProjetoBAH/blob/main/Aula_2_Atividades.ipynb\" target=\"_parent\"><img src=\"https://colab.research.google.com/assets/colab-badge.svg\" alt=\"Open In Colab\"/></a>"
      ]
    },
    {
      "cell_type": "markdown",
      "source": [
        "#Atividade 1\n",
        "\n",
        "Crie um Array que vá do número 2017 até 2024. Comente qual a principal diferença de um array para uma lista? Printe o tipo do array e o tipo dos elementos do array. Transforme esse array num array bidimensional.\n",
        "\n",
        "Desafio: Mude o tipo dos elementos array para o que ocupe menos memória possível sem alterar os elementos do array.\n",
        "\n"
      ],
      "metadata": {
        "id": "wsCX7C3pTir_"
      }
    },
    {
      "cell_type": "code",
      "execution_count": 9,
      "metadata": {
        "id": "t2ChIBugSXl9",
        "outputId": "7d66dc96-2137-4fa8-8876-392f6d6157a8",
        "colab": {
          "base_uri": "https://localhost:8080/"
        }
      },
      "outputs": [
        {
          "output_type": "stream",
          "name": "stdout",
          "text": [
            "A principal diferença entre um array e uma lista está na maneira como são estruturados. \n",
            "Um array é uma estrutura de dados que armazena um conjunto fixo de elementos do mesmo tipo de dados. Uma lista, por outro lado, é uma estrutura de dados que pode armazenar uma coleção de elementos de tipos diferentes.\n",
            "\n",
            "Tipo do array: <class 'numpy.ndarray'> \n",
            "\n",
            "Tipo dos elementos do array: int32 \n",
            "\n"
          ]
        }
      ],
      "source": [
        "import numpy as np\n",
        "\n",
        "primeiro_ano = 2017\n",
        "ultimo_ano = 2024\n",
        "\n",
        "# Create the array directly using np.arange\n",
        "array_anos = np.arange(primeiro_ano, ultimo_ano + 1, dtype=np.int32)\n",
        "\n",
        "print('A principal diferença entre um array e uma lista está na maneira como são estruturados. \\nUm array é uma estrutura de dados que armazena um conjunto fixo de elementos do mesmo tipo de dados. Uma lista, por outro lado, é uma estrutura de dados que pode armazenar uma coleção de elementos de tipos diferentes.\\n')\n",
        "\n",
        "# Print the array and its dtype\n",
        "print('Tipo do array:', type(array_anos), '\\n')\n",
        "print('Tipo dos elementos do array:', array_anos.dtype, '\\n')\n",
        "\n",
        "# Reshape the array into a 2x4 matrix\n",
        "array_anos = array_anos.reshape(2, 4)"
      ]
    },
    {
      "cell_type": "markdown",
      "source": [
        "#Atividade 2\n",
        "Crie um array de números aleatórios entre 0 e 10;\n",
        "\n",
        "Defina um valor limite de 0 a 10, por exemplo, 4;\n",
        "\n",
        "Encontre os índices dos elementos maiores do que o valor limite;\n",
        "\n",
        "Acessar os valores dos elementos maiores do que o valor limite;\n",
        "\n",
        "Substitua os valores maiores que o limite por 0."
      ],
      "metadata": {
        "id": "u2qHHjxrTtF2"
      }
    },
    {
      "cell_type": "code",
      "source": [
        "import numpy as np\n",
        "\n",
        "# Generate a random array\n",
        "np.random.seed(42)  # For reproducibility\n",
        "random_array = np.random.randint(0, 10, size=20)  # Random array of 20 integers between 0 and 100\n",
        "print(\"Array de números aleatórios:\", random_array, '\\n')\n",
        "\n",
        "# Define the threshold\n",
        "threshold = 4\n",
        "\n",
        "# Find the indices and values that exceed the threshold\n",
        "indices_exceeding_threshold = np.where(random_array > threshold)\n",
        "values_exceeding_threshold = random_array[indices_exceeding_threshold]\n",
        "\n",
        "# Print the results\n",
        "print(\"Indíces dos elementos excedendo o valor limite:\", indices_exceeding_threshold, '\\n')\n",
        "print(\"Valores dos elementos excedendo o valor limite:\", values_exceeding_threshold, '\\n')\n",
        "\n",
        "# Replace values exceeding the threshold with 0\n",
        "random_array[indices_exceeding_threshold] = 0\n",
        "\n",
        "# Print the modified array\n",
        "print(\"Array modificado:\", random_array)"
      ],
      "metadata": {
        "id": "xn4sWg35SvBG",
        "outputId": "acbb2665-6942-4872-8c45-9e85ee68c39b",
        "colab": {
          "base_uri": "https://localhost:8080/"
        }
      },
      "execution_count": 12,
      "outputs": [
        {
          "output_type": "stream",
          "name": "stdout",
          "text": [
            "Array de números aleatórios: [6 3 7 4 6 9 2 6 7 4 3 7 7 2 5 4 1 7 5 1] \n",
            "\n",
            "Indíces dos elementos excedendo o valor limite: (array([ 0,  2,  4,  5,  7,  8, 11, 12, 14, 17, 18]),) \n",
            "\n",
            "Valores dos elementos excedendo o valor limite: [6 7 6 9 6 7 7 7 5 7 5] \n",
            "\n",
            "Array modificado: [0 3 0 4 0 0 2 0 0 4 3 0 0 2 0 4 1 0 0 1]\n"
          ]
        }
      ]
    },
    {
      "cell_type": "markdown",
      "source": [
        "#Atividade 3\n",
        "Foi adicionado uma lista para representar as vendas mensais de três empresas ao longo do ano.\n",
        "\n",
        "Transforme essa lista em Array;\n",
        "\n",
        "Calcule o valor minimo, maximo e medio da lista;\n",
        "\n",
        "Calcule a soma de cada mês e adicione uma coluna com esses resultados;\n",
        "\n",
        "Calcule a média de cada empresa (e da soma) e adicione como linha final;\n",
        "\n",
        "Remova as agregações;\n",
        "\n",
        "Separe o array em 4 arrays de trimestres.\n",
        "\n",
        "Faça as vendas esperadas para o ano seguinte. Espera-se que o primeiro trimestre terá um crescimento de 5%, 15% para o segundo trimestre, queda de 5% para o terceiro trimestre e crescimento de 20% para o último trimestre.\n",
        "Junte esses arrays em um novo array, mantendo a separação por trimestre.\n",
        "Desafio: Faça as vendas esperadas através da multiplicação do array de vendas trimestrais pelo array de crescimento. Transforme o array resultante para que ele tenha o mesmo shape do array original.\n",
        "\n",
        "Espera-se Split, Stack, Concatenate e Delete.\n",
        "\n",
        "vendas_mensais= [\n",
        "    [10000, 15000, 20000],  # Janeiro\n",
        "    [11000, 14000, 22000],  # Fevereiro\n",
        "    [12000, 16000, 21000],  # Março\n",
        "    [10500, 15500, 21500],  # Abril\n",
        "    [11500, 14500, 22500],  # Maio\n",
        "    [12500, 16500, 20500],  # Junho\n",
        "    [13000, 17000, 19500],  # Julho\n",
        "    [13500, 17500, 18500],  # Agosto\n",
        "    [14000, 18000, 17500],  # Setembro\n",
        "    [14500, 18500, 16500],  # Outubro\n",
        "    [15000, 19000, 15500],  # Novembro\n",
        "    [15500, 19500, 14500]   # Dezembro\n",
        "]"
      ],
      "metadata": {
        "id": "ZRsk7wSxTvQu"
      }
    },
    {
      "cell_type": "code",
      "source": [
        "import numpy as np\n",
        "\n",
        "vendas_mensais= [\n",
        "    [10000, 15000, 20000],  # Janeiro\n",
        "    [11000, 14000, 22000],  # Fevereiro\n",
        "    [12000, 16000, 21000],  # Março\n",
        "    [10500, 15500, 21500],  # Abril\n",
        "    [11500, 14500, 22500],  # Maio\n",
        "    [12500, 16500, 20500],  # Junho\n",
        "    [13000, 17000, 19500],  # Julho\n",
        "    [13500, 17500, 18500],  # Agosto\n",
        "    [14000, 18000, 17500],  # Setembro\n",
        "    [14500, 18500, 16500],  # Outubro\n",
        "    [15000, 19000, 15500],  # Novembro\n",
        "    [15500, 19500, 14500]   # Dezembro\n",
        "]\n",
        "#print(vendas_mensais)\n",
        "\n",
        "# Lista com os arrays de vendas mensais das empresas\n",
        "vendas_array = np.array(vendas_mensais)\n",
        "print('Lista em array:', vendas_array)\n",
        "\n",
        "# Calculando valor mínimo\n",
        "minimo = min(min(mes) for mes in vendas_mensais)\n",
        "print(\"Valor mínimo de vendas da lista:\", minimo)\n",
        "\n",
        "# Calculando valor máximo\n",
        "maximo = max(max(mes) for mes in vendas_mensais)\n",
        "print(\"Valor máximo de vendas da lista:\", maximo)\n",
        "\n",
        "# Calculando média\n",
        "total_vendas = sum(sum(mes) for mes in vendas_mensais)\n",
        "num_meses = len(vendas_mensais)\n",
        "media = round(total_vendas / (num_meses * len(vendas_mensais[0])),2)\n",
        "print(\"Média de vendas da lista:\", media)\n",
        "\n",
        "# Valor mínimo\n",
        "valor_minimo = np.min(vendas_array)\n",
        "print(\"Valor mínimo de vendas do array:\", valor_minimo)\n",
        "\n",
        "# Valor máximo\n",
        "valor_maximo = np.max(vendas_array)\n",
        "print(\"Valor máximo de vendas do array:\", valor_maximo)\n",
        "\n",
        "# Média\n",
        "media_vendas = round(np.mean(vendas_array),2)\n",
        "print(\"Média de vendas do array:\", media_vendas)\n",
        "\n"
      ],
      "metadata": {
        "colab": {
          "base_uri": "https://localhost:8080/"
        },
        "id": "TuoHYBKJSyil",
        "outputId": "0098775b-1ead-4d27-d49c-135a2006e929"
      },
      "execution_count": 16,
      "outputs": [
        {
          "output_type": "stream",
          "name": "stdout",
          "text": [
            "Lista em array: [[10000 15000 20000]\n",
            " [11000 14000 22000]\n",
            " [12000 16000 21000]\n",
            " [10500 15500 21500]\n",
            " [11500 14500 22500]\n",
            " [12500 16500 20500]\n",
            " [13000 17000 19500]\n",
            " [13500 17500 18500]\n",
            " [14000 18000 17500]\n",
            " [14500 18500 16500]\n",
            " [15000 19000 15500]\n",
            " [15500 19500 14500]]\n",
            "Valor mínimo de vendas da lista: 10000\n",
            "Valor máximo de vendas da lista: 22500\n",
            "Média de vendas da lista: 16208.33\n",
            "Valor mínimo de vendas do  array: 10000\n",
            "Valor máximo de vendas do  array: 22500\n",
            "Média de vendas do  array: 16208.33\n"
          ]
        }
      ]
    },
    {
      "cell_type": "code",
      "source": [
        "# Calcular a soma de cada mês\n",
        "soma_por_mes = np.sum(vendas_array, axis=1)\n",
        "\n",
        "# Adicionar uma coluna com os resultados de soma por mês\n",
        "matriz_soma_mes = np.column_stack((vendas_array, soma_por_mes))\n",
        "\n",
        "# Imprimir a matriz com a coluna de soma por mês\n",
        "print(\"Matriz de vendas mensais com soma por mês:\\n\")\n",
        "print(matriz_soma_mes)"
      ],
      "metadata": {
        "colab": {
          "base_uri": "https://localhost:8080/"
        },
        "id": "I-8kOx3iS4Cl",
        "outputId": "6984ce90-3915-41db-9109-e090143ecf70"
      },
      "execution_count": 22,
      "outputs": [
        {
          "output_type": "stream",
          "name": "stdout",
          "text": [
            "Matriz de vendas mensais com soma por mês:\n",
            "\n",
            "[[10000 15000 20000 45000]\n",
            " [11000 14000 22000 47000]\n",
            " [12000 16000 21000 49000]\n",
            " [10500 15500 21500 47500]\n",
            " [11500 14500 22500 48500]\n",
            " [12500 16500 20500 49500]\n",
            " [13000 17000 19500 49500]\n",
            " [13500 17500 18500 49500]\n",
            " [14000 18000 17500 49500]\n",
            " [14500 18500 16500 49500]\n",
            " [15000 19000 15500 49500]\n",
            " [15500 19500 14500 49500]]\n"
          ]
        }
      ]
    },
    {
      "cell_type": "markdown",
      "source": [
        "Cada mês é representado por uma linha na matriz, começando por janeiro até dezembro, e sua respectiva soma está indicada na quarta coluna."
      ],
      "metadata": {
        "id": "cEfMsZZL5fGs"
      }
    },
    {
      "cell_type": "code",
      "source": [
        "# Calcular a média de cada coluna\n",
        "media_por_coluna = np.mean(matriz_soma_mes, axis=0)\n",
        "print('Média:', media_por_coluna)\n",
        "\n",
        "# Calcular a soma de cada coluna\n",
        "soma_por_coluna = np.sum(matriz_soma_mes, axis=0)\n",
        "print('Soma:', soma_por_coluna)\n",
        "\n",
        "# Adicionar uma nova linha com as médias de vendas por mês\n",
        "matriz_media_empresa_mes = np.vstack((matriz_soma_mes, media_por_coluna))\n",
        "matriz_media_empresa_mes = np.vstack((matriz_media_empresa_mes, soma_por_coluna))\n",
        "\n",
        "# Imprimir a matriz com a nova linha de média por coluna\n",
        "print(\"Matriz de vendas mensais com média e soma por coluna:\")\n",
        "print(matriz_media_empresa_mes)"
      ],
      "metadata": {
        "colab": {
          "base_uri": "https://localhost:8080/"
        },
        "id": "pHqj--N8S6V9",
        "outputId": "71224e0e-9400-4e2e-9a42-815284e63878"
      },
      "execution_count": 25,
      "outputs": [
        {
          "output_type": "stream",
          "name": "stdout",
          "text": [
            "Média: [12750. 16750. 19125. 48625.]\n",
            "Soma: [153000 201000 229500 583500]\n",
            "Matriz de vendas mensais com média e soma por coluna:\n",
            "[[ 10000.  15000.  20000.  45000.]\n",
            " [ 11000.  14000.  22000.  47000.]\n",
            " [ 12000.  16000.  21000.  49000.]\n",
            " [ 10500.  15500.  21500.  47500.]\n",
            " [ 11500.  14500.  22500.  48500.]\n",
            " [ 12500.  16500.  20500.  49500.]\n",
            " [ 13000.  17000.  19500.  49500.]\n",
            " [ 13500.  17500.  18500.  49500.]\n",
            " [ 14000.  18000.  17500.  49500.]\n",
            " [ 14500.  18500.  16500.  49500.]\n",
            " [ 15000.  19000.  15500.  49500.]\n",
            " [ 15500.  19500.  14500.  49500.]\n",
            " [ 12750.  16750.  19125.  48625.]\n",
            " [153000. 201000. 229500. 583500.]]\n"
          ]
        }
      ]
    },
    {
      "cell_type": "code",
      "source": [
        "# Remover a agregação\n",
        "nova_matriz = np.delete(matriz_media_empresa_mes, [12, 13], axis=0)\n",
        "print(\"Remoção da agregação:\", nova_matriz, '\\n')\n",
        "\n",
        "# Separar o array em 4 trimestres\n",
        "nova_matriz = np.delete(nova_matriz, 2, axis=1)\n",
        "#print(nova_matriz)\n",
        "\n",
        "print(\"Separação em Trimestres\")\n",
        "tri = np.split(nova_matriz, 4, axis=0)\n",
        "#print(tri)\n",
        "\n",
        "print(\"Trimestre 1:\", tri[:1], '\\n')\n",
        "\n",
        "print(\"Trimestre 2:\", tri[1:2], '\\n')\n",
        "\n",
        "print(\"Trimestre 3:\", tri[2:3], '\\n')\n",
        "\n",
        "print(\"Trimestre 4:\", tri[3:])"
      ],
      "metadata": {
        "colab": {
          "base_uri": "https://localhost:8080/"
        },
        "id": "_NrO8JG0S9id",
        "outputId": "184ba086-fe9c-4e69-fffa-d511028aa76c"
      },
      "execution_count": 34,
      "outputs": [
        {
          "output_type": "stream",
          "name": "stdout",
          "text": [
            "Remoção da agregação: [[10000. 15000. 20000. 45000.]\n",
            " [11000. 14000. 22000. 47000.]\n",
            " [12000. 16000. 21000. 49000.]\n",
            " [10500. 15500. 21500. 47500.]\n",
            " [11500. 14500. 22500. 48500.]\n",
            " [12500. 16500. 20500. 49500.]\n",
            " [13000. 17000. 19500. 49500.]\n",
            " [13500. 17500. 18500. 49500.]\n",
            " [14000. 18000. 17500. 49500.]\n",
            " [14500. 18500. 16500. 49500.]\n",
            " [15000. 19000. 15500. 49500.]\n",
            " [15500. 19500. 14500. 49500.]] \n",
            "\n",
            "Separação em Trimestres\n",
            "Trimestre 1: [array([[10000., 15000., 45000.],\n",
            "       [11000., 14000., 47000.],\n",
            "       [12000., 16000., 49000.]])] \n",
            "\n",
            "Trimestre 2: [array([[10500., 15500., 47500.],\n",
            "       [11500., 14500., 48500.],\n",
            "       [12500., 16500., 49500.]])] \n",
            "\n",
            "Trimestre 3: [array([[13000., 17000., 49500.],\n",
            "       [13500., 17500., 49500.],\n",
            "       [14000., 18000., 49500.]])] \n",
            "\n",
            "Trimestre 4: [array([[14500., 18500., 49500.],\n",
            "       [15000., 19000., 49500.],\n",
            "       [15500., 19500., 49500.]])]\n"
          ]
        }
      ]
    },
    {
      "cell_type": "code",
      "source": [
        "\n",
        "# Fatores de crescimento ou queda para cada trimestre\n",
        "fator_trimestre1 = np.array([[1.05, 1.05, 1.05], [1.05, 1.05, 1.05],[1.05, 1.05, 1.05]])  # crescimento de 5%\n",
        "fator_trimestre2 = np.array([[1.15, 1.15, 1.15], [1.15, 1.15, 1.15],[1.15, 1.15, 1.15]])  # crescimento de 15%\n",
        "fator_trimestre3 = np.array([[0.95,0.95, 0.95], [0.95, 0.95, 0.95],[0.95, 0.95, 0.95]]) # queda de 5%\n",
        "fator_trimestre4 = np.array([[1.20,1.20,1.20], [1.20,1.20,1.20],[1.20,1.20,1.20]])   # crescimento de 20%\n",
        "\n",
        "# Calculando as vendas esperadas para o próximo ano\n",
        "vendas_esperadas_trimestre1 = tri[:1] * fator_trimestre1\n",
        "vendas_esperadas_trimestre2 = tri[1:2] * fator_trimestre2\n",
        "vendas_esperadas_trimestre3 = tri[2:3] * fator_trimestre3\n",
        "vendas_esperadas_trimestre4 = tri[3:] * fator_trimestre4\n",
        "\n",
        "# Imprimindo as vendas esperadas para cada trimestre\n",
        "print(\"Vendas esperadas para o próximo ano:\")\n",
        "print(\"Trimestre 1:\")\n",
        "print(vendas_esperadas_trimestre1)\n",
        "print()\n",
        "print(\"Trimestre 2:\")\n",
        "print(vendas_esperadas_trimestre2)\n",
        "print()\n",
        "print(\"Trimestre 3:\")\n",
        "print(vendas_esperadas_trimestre3)\n",
        "print()\n",
        "print(\"Trimestre 4:\")\n",
        "print(vendas_esperadas_trimestre4)"
      ],
      "metadata": {
        "colab": {
          "base_uri": "https://localhost:8080/"
        },
        "id": "3uWirDUsTKd_",
        "outputId": "b2369efb-4c32-4a0c-b728-977e702de84a"
      },
      "execution_count": null,
      "outputs": [
        {
          "output_type": "stream",
          "name": "stdout",
          "text": [
            "Vendas esperadas para o próximo ano:\n",
            "Trimestre 1:\n",
            "[[[10500. 15750. 47250.]\n",
            "  [11550. 14700. 49350.]\n",
            "  [12600. 16800. 51450.]]]\n",
            "\n",
            "Trimestre 2:\n",
            "[[[12075. 17825. 54625.]\n",
            "  [13225. 16675. 55775.]\n",
            "  [14375. 18975. 56925.]]]\n",
            "\n",
            "Trimestre 3:\n",
            "[[[12350. 16150. 47025.]\n",
            "  [12825. 16625. 47025.]\n",
            "  [13300. 17100. 47025.]]]\n",
            "\n",
            "Trimestre 4:\n",
            "[[[17400. 22200. 59400.]\n",
            "  [18000. 22800. 59400.]\n",
            "  [18600. 23400. 59400.]]]\n"
          ]
        }
      ]
    },
    {
      "cell_type": "code",
      "source": [
        "\n",
        "# Agrupar os arrays em uma matriz mantendo sua configuração original\n",
        "matriz_vendas_esperadas = np.stack((vendas_esperadas_trimestre1,\n",
        "                                          vendas_esperadas_trimestre2,\n",
        "                                          vendas_esperadas_trimestre3,\n",
        "                                          vendas_esperadas_trimestre4))\n",
        "\n",
        "# Imprimir a matriz resultante\n",
        "print(\"Matriz de vendas esperadas para o próximo ano por semestre:\\n\")\n",
        "print(matriz_vendas_esperadas)\n",
        "print()\n",
        "\n",
        "matriz_esperadas = np.concatenate((vendas_esperadas_trimestre1,\n",
        "                                          vendas_esperadas_trimestre2,\n",
        "                                          vendas_esperadas_trimestre3,\n",
        "                                          vendas_esperadas_trimestre4), axis=1)\n",
        "\n",
        "# Imprimir a matriz resultante\n",
        "print(\"Matriz de vendas esperadas para o próximo ano das empresas:\\n\")\n",
        "print(matriz_esperadas)\n"
      ],
      "metadata": {
        "colab": {
          "base_uri": "https://localhost:8080/"
        },
        "id": "vEh2gedGTO4P",
        "outputId": "8fcfac0e-d87c-4762-d4c1-38b2d05c2d37"
      },
      "execution_count": null,
      "outputs": [
        {
          "output_type": "stream",
          "name": "stdout",
          "text": [
            "Matriz de vendas esperadas para o próximo ano por semestre:\n",
            "\n",
            "[[[[10500. 15750. 47250.]\n",
            "   [11550. 14700. 49350.]\n",
            "   [12600. 16800. 51450.]]]\n",
            "\n",
            "\n",
            " [[[12075. 17825. 54625.]\n",
            "   [13225. 16675. 55775.]\n",
            "   [14375. 18975. 56925.]]]\n",
            "\n",
            "\n",
            " [[[12350. 16150. 47025.]\n",
            "   [12825. 16625. 47025.]\n",
            "   [13300. 17100. 47025.]]]\n",
            "\n",
            "\n",
            " [[[17400. 22200. 59400.]\n",
            "   [18000. 22800. 59400.]\n",
            "   [18600. 23400. 59400.]]]]\n",
            "\n",
            "Matriz de vendas esperadas para o próximo ano das empresas:\n",
            "\n",
            "[[[10500. 15750. 47250.]\n",
            "  [11550. 14700. 49350.]\n",
            "  [12600. 16800. 51450.]\n",
            "  [12075. 17825. 54625.]\n",
            "  [13225. 16675. 55775.]\n",
            "  [14375. 18975. 56925.]\n",
            "  [12350. 16150. 47025.]\n",
            "  [12825. 16625. 47025.]\n",
            "  [13300. 17100. 47025.]\n",
            "  [17400. 22200. 59400.]\n",
            "  [18000. 22800. 59400.]\n",
            "  [18600. 23400. 59400.]]]\n"
          ]
        }
      ]
    },
    {
      "cell_type": "markdown",
      "source": [
        "#Atividade 4\n",
        "Crie um array com o nome de todos os membros do grupo. Uilize das propriedades do Numpy para deixar todos os nomes em letras maiúsculas.\n",
        "     "
      ],
      "metadata": {
        "id": "8xCz3yEk8KkH"
      }
    },
    {
      "cell_type": "code",
      "source": [
        "grupo_4_manha = np.array(['Daniel', 'Caroline', 'João', 'Antônio', 'Leticia'])"
      ],
      "metadata": {
        "id": "vR6_eBqXrpVE"
      },
      "execution_count": 35,
      "outputs": []
    },
    {
      "cell_type": "code",
      "source": [
        "print(grupo_4_manha)\n",
        "grupo_alto = np.char.upper(grupo_4_manha)\n",
        "\n",
        "print(grupo_alto)"
      ],
      "metadata": {
        "colab": {
          "base_uri": "https://localhost:8080/"
        },
        "id": "of2UyrSnsAFN",
        "outputId": "3534d7a9-0ed0-4a84-86ee-cbb2d2f67d8b"
      },
      "execution_count": 36,
      "outputs": [
        {
          "output_type": "stream",
          "name": "stdout",
          "text": [
            "['Daniel' 'Caroline' 'João' 'Antônio' 'Leticia']\n",
            "['DANIEL' 'CAROLINE' 'JOÃO' 'ANTÔNIO' 'LETICIA']\n"
          ]
        }
      ]
    },
    {
      "cell_type": "markdown",
      "source": [
        "#Atividade 5\n",
        "Considerando manhã = 1 e tarde = 2, concatene o número do turno mais o número do grupo.\n",
        "\n",
        "Defina esse número como a seed.\n",
        "\n",
        "Crie uma sequencia de 10 números aleatorios entre 0 e 1.\n",
        "\n",
        "Calcule quantos desses são maiores que 0.5.\n",
        "\n",
        "Agora crie uma sequencia novamente. Essa sequencia é igual a primeira? Se não, crie uma sequencia \"aleatória\" novamente que tenha os mesmos números da primeira sequência.\n",
        "\n",
        "O que acontece se é repetido o código novamente?\n",
        "\n",
        "\n"
      ],
      "metadata": {
        "id": "Pi8XS7v8uEps"
      }
    },
    {
      "cell_type": "code",
      "source": [
        "# Manhã\n",
        "manha = 1\n",
        "# Grupo\n",
        "grupo = 4\n",
        "\n",
        "# Definindo a seed\n",
        "seed = int(str(manha)+ str(grupo))\n",
        "#print(seed)\n",
        "np.random.seed(seed)\n",
        "\n",
        "# Gerando a sequência de 10 números aleatórios entre 0 e 1\n",
        "sequencia_aleatoria = np.random.rand(10)\n",
        "print(\"Sequência aleatória:\", sequencia_aleatoria, '\\n')\n",
        "\n",
        "# Calculando quantos desses são maiores do que 0.5\n",
        "maior_0_5 = sum(sequencia_aleatoria > 0.5)\n",
        "print(\"Quantos são maiores do que 0.5:\", maior_0_5, '\\n')\n",
        "\n",
        "# Gerando nova sequência de 10 números aleatórios entre 0 e 1\n",
        "nova_sequencia_aleatoria = np.random.rand(10)\n",
        "print(\"Nova sequência aleatória:\", nova_sequencia_aleatoria)\n",
        "print(\"É igual a primeira, porque a semente 14 foi fixada.\\n\")\n",
        "\n",
        "# Gerando nova sequência aleatória\n",
        "np.random.seed(None)\n",
        "nova_sequencia_aleatoria = np.random.rand(10)\n",
        "print(\"Nova sequência aleatória:\", nova_sequencia_aleatoria, '\\n')\n",
        "print(\"A medida que o código é repetido novos números são gerados nas sequências que não possuem uma seed definida. \\nIsso porque a seed garante reprodutibilidade, e sem ela, os valores gerados são sempre distintos.\")"
      ],
      "metadata": {
        "id": "y1ijfDlt8clT",
        "outputId": "0b70efc2-60aa-4fdc-e473-f832d3e24267",
        "colab": {
          "base_uri": "https://localhost:8080/"
        }
      },
      "execution_count": 63,
      "outputs": [
        {
          "output_type": "stream",
          "name": "stdout",
          "text": [
            "Sequência aleatória: [0.51394334 0.77316505 0.87042769 0.00804695 0.30973593 0.95760374\n",
            " 0.51311671 0.31828442 0.53919994 0.22125494] \n",
            "\n",
            "Quantos são maiores do que 0.5: 6 \n",
            "\n",
            "Nova sequência aleatória: [0.80648136 0.34225463 0.53888885 0.00587379 0.67315248 0.21002426\n",
            " 0.93255759 0.37424475 0.75241892 0.763139  ]\n",
            "É igual a primeira, porque a semente 14 foi fixada.\n",
            "\n",
            "Nova sequência aleatória: [0.75039981 0.2658193  0.57260275 0.6450297  0.69349335 0.00802245\n",
            " 0.98889314 0.3516756  0.52282686 0.91448974] \n",
            "\n",
            "A medida que o código é repetido novos números são gerados nas sequências que não possuem uma seed definida. \n",
            "Isso porque a seed garante reprodutibilidade, e sem ela, os valores gerados são sempre distintos.\n"
          ]
        }
      ]
    }
  ]
}