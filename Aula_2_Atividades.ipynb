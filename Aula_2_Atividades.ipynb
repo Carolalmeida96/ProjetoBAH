{
  "nbformat": 4,
  "nbformat_minor": 0,
  "metadata": {
    "colab": {
      "provenance": [],
      "authorship_tag": "ABX9TyP9dvjONe5tJ6wbK8e8+qlt",
      "include_colab_link": true
    },
    "kernelspec": {
      "name": "python3",
      "display_name": "Python 3"
    },
    "language_info": {
      "name": "python"
    }
  },
  "cells": [
    {
      "cell_type": "markdown",
      "metadata": {
        "id": "view-in-github",
        "colab_type": "text"
      },
      "source": [
        "<a href=\"https://colab.research.google.com/github/Carolalmeida96/ProjetoBAH/blob/main/Aula_2_Atividades.ipynb\" target=\"_parent\"><img src=\"https://colab.research.google.com/assets/colab-badge.svg\" alt=\"Open In Colab\"/></a>"
      ]
    },
    {
      "cell_type": "code",
      "execution_count": 1,
      "metadata": {
        "colab": {
          "base_uri": "https://localhost:8080/"
        },
        "id": "t2ChIBugSXl9",
        "outputId": "8a0aca47-da7b-44b4-e419-58ee06bc3df9"
      },
      "outputs": [
        {
          "output_type": "stream",
          "name": "stdout",
          "text": [
            "Primeiro número do Array: 2017\n",
            "Último número do Array: 2024\n",
            "[2017 2018 2019 2020 2021 2022 2023 2024]\n",
            "int32\n",
            "[[2017 2018 2019 2020]\n",
            " [2021 2022 2023 2024]]\n"
          ]
        }
      ],
      "source": [
        "import numpy as np\n",
        "\n",
        "# Ask the user for the first and last numbers of the array\n",
        "primeiro_ano = int(input(\"Primeiro número do Array: \"))\n",
        "ultimo_ano = int(input(\"Último número do Array: \"))\n",
        "\n",
        "# Create the array directly using np.arange\n",
        "array_anos = np.arange(primeiro_ano, ultimo_ano + 1, dtype=np.int32)\n",
        "\n",
        "# Print the array and its dtype\n",
        "print(array_anos)\n",
        "print(array_anos.dtype)\n",
        "\n",
        "# Reshape the array into a 2x4 matrix\n",
        "array_anos = array_anos.reshape(2, 4)\n",
        "\n",
        "# Print the array and its dtype\n",
        "print(array_anos)"
      ]
    },
    {
      "cell_type": "code",
      "source": [
        "import numpy as np\n",
        "\n",
        "# Generate a random array\n",
        "np.random.seed(42)  # For reproducibility\n",
        "random_array = np.random.randint(0, 10, size=20)  # Random array of 20 integers between 0 and 100\n",
        "print(\"Random array:\", random_array)\n",
        "\n",
        "# Define the threshold\n",
        "threshold = 4\n",
        "\n",
        "# Find the indices and values that exceed the threshold\n",
        "indices_exceeding_threshold = np.where(random_array > threshold)\n",
        "values_exceeding_threshold = random_array[indices_exceeding_threshold]\n",
        "\n",
        "# Print the results\n",
        "print(\"Indices exceeding threshold:\", indices_exceeding_threshold)\n",
        "print(\"Values exceeding threshold:\", values_exceeding_threshold)\n",
        "\n",
        "# Replace values exceeding the threshold with 0\n",
        "random_array[indices_exceeding_threshold] = 0\n",
        "\n",
        "# Print the modified array\n",
        "print(\"Modified array:\", random_array)"
      ],
      "metadata": {
        "id": "xn4sWg35SvBG"
      },
      "execution_count": null,
      "outputs": []
    },
    {
      "cell_type": "code",
      "source": [
        "import numpy as np\n",
        "import matplotlib.pyplot as plt\n",
        "\n",
        "# Listas de vendas mensais para as três empresas\n",
        "vendas_empresa_1 = [50000, 60000, 55000, 58000, 62000, 65000, 70000, 72000, 69000, 75000, 78000, 80000]\n",
        "vendas_empresa_2 = [45000, 48000, 49000, 52000, 55000, 58000, 60000, 62000, 65000, 68000, 70000, 75000]\n",
        "vendas_empresa_3 = [40000, 42000, 43000, 46000, 48000, 50000, 52000, 54000, 56000, 58000, 60000, 62000]\n",
        "\n",
        "# Transformar as listas em arrays numpy\n",
        "vendas_empresa_1_array = np.array(vendas_empresa_1)\n",
        "vendas_empresa_2_array = np.array(vendas_empresa_2)\n",
        "vendas_empresa_3_array = np.array(vendas_empresa_3)\n",
        "\n",
        "# Lista com os arrays de vendas mensais de cada empresa\n",
        "vendas_mensais_array = [vendas_empresa_1_array, vendas_empresa_2_array, vendas_empresa_3_array]\n",
        "print (venda_mensais_array)\n",
        "# Calcular os valores mínimo, máximo e médio para cada empresa (lista e array)\n",
        "for i, vendas_empresa in enumerate(vendas_mensais_array, start=1):\n",
        "    print(f\"Empresa {i}:\")\n",
        "    print(f\"  Lista - Mínimo: {min(vendas_empresa)}, Máximo: {max(vendas_empresa)}, Médio: {sum(vendas_empresa) / len(vendas_empresa)}\")\n",
        "    print(f\"  Array - Mínimo: {np.min(vendas_empresa)}, Máximo: {np.max(vendas_empresa)}, Médio: {np.mean(vendas_empresa)}\")\n",
        "\n"
      ],
      "metadata": {
        "id": "TuoHYBKJSyil"
      },
      "execution_count": null,
      "outputs": []
    },
    {
      "cell_type": "code",
      "source": [
        "# Criar uma matriz de vendas mensais com os arrays de vendas de cada empresa\n",
        "matriz_vendas_mensais = np.array([vendas_empresa_1_array, vendas_empresa_2_array, vendas_empresa_3_array])\n",
        "\n",
        "\n",
        "# Calcular a média das vendas de cada empresa\n",
        "media_por_mes = np.mean(matriz_vendas_mensais, axis=1)\n",
        "print(media_por_mes)\n",
        "# Adicionar uma coluna com os resultados de soma por mês\n",
        "matriz_vendas_mensais_com_media_mes = np.column_stack((matriz_vendas_mensais, media_por_mes))\n",
        "\n",
        "# Imprimir a matriz com a coluna de soma por mês\n",
        "print(\"Matriz de vendas mensais com soma por mês:\")\n",
        "print(matriz_vendas_mensais_com_media_mes)"
      ],
      "metadata": {
        "id": "I-8kOx3iS4Cl"
      },
      "execution_count": null,
      "outputs": []
    },
    {
      "cell_type": "code",
      "source": [
        "# Calcular a média de cada coluna\n",
        "media_por_coluna = np.mean(matriz_vendas_mensais_com_media_mes, axis=0)\n",
        "print (media_por_coluna)\n",
        "# Adicionar uma nova linha com as médias de vendas por mês\n",
        "matriz_vendas_mensais_com_media_mes_e_media_coluna = np.vstack((matriz_vendas_mensais_com_media_mes, media_por_coluna))\n",
        "\n",
        "# Imprimir a matriz com a nova linha de média por coluna\n",
        "print(\"Matriz de vendas mensais com média por coluna:\")\n",
        "print(matriz_vendas_mensais_com_media_mes_e_media_coluna)"
      ],
      "metadata": {
        "id": "pHqj--N8S6V9"
      },
      "execution_count": null,
      "outputs": []
    },
    {
      "cell_type": "code",
      "source": [
        "nova_matriz = np.delete(matriz_vendas_mensais_com_media_mes_e_media_coluna, 3, axis=0)\n",
        "\n",
        "print(nova_matriz)\n",
        "\n",
        "nova_matriz = np.delete(nova_matriz, 12, axis=1)\n",
        "\n",
        "trimestre1 = matriz_vendas_mensais[:, :3]\n",
        "trimestre2 = matriz_vendas_mensais[:, 3:6]\n",
        "trimestre3 = matriz_vendas_mensais[:, 6:9]\n",
        "trimestre4 = matriz_vendas_mensais[:, 9:]\n",
        "\n",
        "print(nova_matriz)\n",
        "print(\"Trimestre 1:\")\n",
        "print(trimestre1)\n",
        "print()\n",
        "\n",
        "print(\"Trimestre 2:\")\n",
        "print(trimestre2)\n",
        "print()\n",
        "\n",
        "print(\"Trimestre 3:\")\n",
        "print(trimestre3)\n",
        "print()\n",
        "\n",
        "print(\"Trimestre 4:\")\n",
        "print(trimestre4)"
      ],
      "metadata": {
        "id": "_NrO8JG0S9id"
      },
      "execution_count": null,
      "outputs": []
    },
    {
      "cell_type": "code",
      "source": [
        "# Fatores de crescimento ou queda para cada trimestre\n",
        "fator_trimestre1 = 1.05  # crescimento de 5%\n",
        "fator_trimestre2 = 1.15  # crescimento de 15%\n",
        "fator_trimestre3 = 0.95  # queda de 5%\n",
        "fator_trimestre4 = 1.20  # crescimento de 20%\n",
        "\n",
        "# Calculando as vendas esperadas para o próximo ano\n",
        "vendas_esperadas_trimestre1 = trimestre1 * fator_trimestre1\n",
        "vendas_esperadas_trimestre2 = trimestre2 * fator_trimestre2\n",
        "vendas_esperadas_trimestre3 = trimestre3 * fator_trimestre3\n",
        "vendas_esperadas_trimestre4 = trimestre4 * fator_trimestre4\n",
        "\n",
        "# Imprimindo as vendas esperadas para cada trimestre\n",
        "print(\"Vendas esperadas para o próximo ano:\")\n",
        "print(\"Trimestre 1:\")\n",
        "print(vendas_esperadas_trimestre1)\n",
        "print()\n",
        "print(\"Trimestre 2:\")\n",
        "print(vendas_esperadas_trimestre2)\n",
        "print()\n",
        "print(\"Trimestre 3:\")\n",
        "print(vendas_esperadas_trimestre3)\n",
        "print()\n",
        "print(\"Trimestre 4:\")\n",
        "print(vendas_esperadas_trimestre4)"
      ],
      "metadata": {
        "id": "3uWirDUsTKd_"
      },
      "execution_count": null,
      "outputs": []
    },
    {
      "cell_type": "code",
      "source": [
        "# Agrupar os arrays em uma matriz mantendo sua configuração original\n",
        "matriz_vendas_esperadas = np.array((vendas_esperadas_trimestre1,\n",
        "                                          vendas_esperadas_trimestre2,\n",
        "                                          vendas_esperadas_trimestre3,\n",
        "                                          vendas_esperadas_trimestre4))\n",
        "\n",
        "# Imprimir a matriz resultante\n",
        "print(\"Matriz de vendas esperadas para o próximo ano por semestre:\\n\")\n",
        "print(matriz_vendas_esperadas)\n",
        "print()\n",
        "\n",
        "matriz_esperadas = np.concatenate((vendas_esperadas_trimestre1,\n",
        "                                          vendas_esperadas_trimestre2,\n",
        "                                          vendas_esperadas_trimestre3,\n",
        "                                          vendas_esperadas_trimestre4), axis=1)\n",
        "\n",
        "# Imprimir a matriz resultante\n",
        "print(\"Matriz de vendas esperadas para o próximo ano por empresa:\\n\")\n",
        "print(matriz_esperadas)"
      ],
      "metadata": {
        "id": "vEh2gedGTO4P"
      },
      "execution_count": null,
      "outputs": []
    }
  ]
}